{
 "cells": [
  {
   "cell_type": "markdown",
   "metadata": {},
   "source": [
    "SIMPLE API"
   ]
  },
  {
   "cell_type": "code",
   "execution_count": 12,
   "metadata": {},
   "outputs": [],
   "source": [
    "import pandas as pd\n",
    "import numpy as np\n",
    "import plotly.graph_objects as go\n",
    "from plotly.offline import plot\n",
    "import matplotlib.pyplot as plt\n",
    "import datetime\n",
    "from pycoingecko import CoinGeckoAPI\n",
    "from mplfinance.original_flavor import candlestick2_ohlc\n",
    "#importing reqired components"
   ]
  },
  {
   "cell_type": "code",
   "execution_count": 13,
   "metadata": {},
   "outputs": [],
   "source": [
    "#creating a dictionary and creating df\n",
    "dict ={\"a\":[11,12,31],\"b\":[12,22,32]}\n",
    "df = pd.DataFrame(dict)"
   ]
  },
  {
   "cell_type": "code",
   "execution_count": 14,
   "metadata": {},
   "outputs": [
    {
     "data": {
      "text/html": [
       "<div>\n",
       "<style scoped>\n",
       "    .dataframe tbody tr th:only-of-type {\n",
       "        vertical-align: middle;\n",
       "    }\n",
       "\n",
       "    .dataframe tbody tr th {\n",
       "        vertical-align: top;\n",
       "    }\n",
       "\n",
       "    .dataframe thead th {\n",
       "        text-align: right;\n",
       "    }\n",
       "</style>\n",
       "<table border=\"1\" class=\"dataframe\">\n",
       "  <thead>\n",
       "    <tr style=\"text-align: right;\">\n",
       "      <th></th>\n",
       "      <th>a</th>\n",
       "      <th>b</th>\n",
       "    </tr>\n",
       "  </thead>\n",
       "  <tbody>\n",
       "    <tr>\n",
       "      <th>0</th>\n",
       "      <td>11</td>\n",
       "      <td>12</td>\n",
       "    </tr>\n",
       "    <tr>\n",
       "      <th>1</th>\n",
       "      <td>12</td>\n",
       "      <td>22</td>\n",
       "    </tr>\n",
       "    <tr>\n",
       "      <th>2</th>\n",
       "      <td>31</td>\n",
       "      <td>32</td>\n",
       "    </tr>\n",
       "  </tbody>\n",
       "</table>\n",
       "</div>"
      ],
      "text/plain": [
       "    a   b\n",
       "0  11  12\n",
       "1  12  22\n",
       "2  31  32"
      ]
     },
     "execution_count": 14,
     "metadata": {},
     "output_type": "execute_result"
    }
   ],
   "source": [
    "# view first few row of the dataframe\n",
    "df.head()"
   ]
  },
  {
   "cell_type": "code",
   "execution_count": 15,
   "metadata": {},
   "outputs": [
    {
     "data": {
      "text/plain": [
       "a    18.0\n",
       "b    22.0\n",
       "dtype: float64"
      ]
     },
     "execution_count": 15,
     "metadata": {},
     "output_type": "execute_result"
    }
   ],
   "source": [
    "df.mean()"
   ]
  },
  {
   "cell_type": "markdown",
   "metadata": {},
   "source": [
    "REpresentational State Transfer API\n",
    "essentially saying send a message to a server and then asking for a response or output and request and then operations are transformed"
   ]
  },
  {
   "cell_type": "code",
   "execution_count": 7,
   "metadata": {},
   "outputs": [],
   "source": [
    "from pycoingecko import CoinGeckoAPI\n",
    "cg = CoinGeckoAPI()\n",
    "bitcoin_data = cg.get_coin_market_chart_by_id(id='bitcoin', vs_currency='usd', days=30)"
   ]
  },
  {
   "cell_type": "code",
   "execution_count": 8,
   "metadata": {},
   "outputs": [
    {
     "data": {
      "text/plain": [
       "[[1656262994925, 21397.26571368566],\n",
       " [1656266611950, 21289.501201801617],\n",
       " [1656270063650, 21236.76975398373],\n",
       " [1656273774119, 21296.751515098586],\n",
       " [1656277379206, 21378.457584431082]]"
      ]
     },
     "execution_count": 8,
     "metadata": {},
     "output_type": "execute_result"
    }
   ],
   "source": [
    "bitcoin_price_data = bitcoin_data['prices']\n",
    "\n",
    "bitcoin_price_data[0:5]"
   ]
  },
  {
   "cell_type": "code",
   "execution_count": 16,
   "metadata": {},
   "outputs": [
    {
     "name": "stdout",
     "output_type": "stream",
     "text": [
      "         TimeStamp         Price\n",
      "0    1656262994925  21397.265714\n",
      "1    1656266611950  21289.501202\n",
      "2    1656270063650  21236.769754\n",
      "3    1656273774119  21296.751515\n",
      "4    1656277379206  21378.457584\n",
      "..             ...           ...\n",
      "716  1658840425204  21036.465724\n",
      "717  1658844051290  20952.483228\n",
      "718  1658847685251  20962.072372\n",
      "719  1658851301593  20783.387306\n",
      "720  1658853552000  20888.391299\n",
      "\n",
      "[721 rows x 2 columns]\n"
     ]
    }
   ],
   "source": [
    "data = pd.DataFrame(bitcoin_price_data, columns=['TimeStamp', 'Price'])\n",
    "print (data)"
   ]
  },
  {
   "cell_type": "code",
   "execution_count": 17,
   "metadata": {},
   "outputs": [
    {
     "name": "stdout",
     "output_type": "stream",
     "text": [
      "         TimeStamp         Price        date\n",
      "0    1656262994925  21397.265714  2022-06-26\n",
      "1    1656266611950  21289.501202  2022-06-26\n",
      "2    1656270063650  21236.769754  2022-06-26\n",
      "3    1656273774119  21296.751515  2022-06-26\n",
      "4    1656277379206  21378.457584  2022-06-26\n",
      "..             ...           ...         ...\n",
      "716  1658840425204  21036.465724  2022-07-26\n",
      "717  1658844051290  20952.483228  2022-07-26\n",
      "718  1658847685251  20962.072372  2022-07-26\n",
      "719  1658851301593  20783.387306  2022-07-26\n",
      "720  1658853552000  20888.391299  2022-07-26\n",
      "\n",
      "[721 rows x 3 columns]\n"
     ]
    }
   ],
   "source": [
    "#adding time and date to the dataframe table\n",
    "data['date'] = data['TimeStamp'].apply(lambda d: datetime.date.fromtimestamp(d/1000.0))\n",
    "print(data)\n"
   ]
  },
  {
   "cell_type": "code",
   "execution_count": 18,
   "metadata": {},
   "outputs": [
    {
     "name": "stdout",
     "output_type": "stream",
     "text": [
      "          date         Price                                          \n",
      "                         min           max         first          last\n",
      "0   2022-06-26  21236.769754  21397.265714  21397.265714  21389.480571\n",
      "1   2022-06-27  20741.872124  21475.850907  21123.118200  20831.206133\n",
      "2   2022-06-28  20275.064146  21108.771855  20831.694366  20398.530481\n",
      "3   2022-06-29  19958.857850  20374.983539  20328.497133  20323.323486\n",
      "4   2022-06-30  18817.428798  20223.261440  20223.261440  18891.797839\n",
      "5   2022-07-01  18927.657324  20429.178979  18927.657324  19432.547601\n",
      "6   2022-07-02  19109.367283  19378.141016  19371.184517  19378.141016\n",
      "7   2022-07-03  19015.704790  19482.648523  19345.062017  19305.319017\n",
      "8   2022-07-04  19106.023616  19948.825953  19299.174566  19942.643587\n",
      "9   2022-07-05  19420.079496  20493.562679  20106.976603  20360.731341\n",
      "10  2022-07-06  19885.772103  20439.183596  20375.983039  20347.961860\n",
      "11  2022-07-07  20347.039132  21790.773519  20517.772667  21650.057281\n",
      "12  2022-07-08  21293.230607  22109.673639  21607.390054  21777.873842\n",
      "13  2022-07-09  21511.656552  21851.623147  21766.456667  21729.069959\n",
      "14  2022-07-10  20828.123959  21634.778796  21634.778796  21078.461007\n",
      "15  2022-07-11  20328.664023  20872.106768  20872.106768  20328.664023\n",
      "16  2022-07-12  19432.207730  20062.918477  20062.918477  19469.021536\n",
      "17  2022-07-13  19113.688679  19912.101239  19415.440969  19871.551426\n",
      "18  2022-07-14  19748.348514  20697.657307  19844.246945  20487.414522\n",
      "19  2022-07-15  20435.357941  21135.784033  20499.224347  20952.996371\n",
      "20  2022-07-16  20522.749340  21399.149591  20889.314292  21232.890056\n",
      "21  2022-07-17  20935.721864  21509.626029  21227.184606  21004.018905\n",
      "22  2022-07-18  20802.939872  22343.508744  20995.891185  21702.157431\n",
      "23  2022-07-19  21766.862634  23654.858145  21784.494533  23654.858145\n",
      "24  2022-07-20  22993.315870  24160.260513  23461.983919  23615.001264\n",
      "25  2022-07-21  22524.740214  23364.053665  23364.053665  23216.702129\n",
      "26  2022-07-22  22648.696277  23665.847268  23016.031815  22750.711397\n",
      "27  2022-07-23  22067.867506  22913.847008  22737.283714  22292.195684\n",
      "28  2022-07-24  22338.578694  22818.981650  22511.787846  22789.404090\n",
      "29  2022-07-25  21803.164658  22860.154563  22860.154563  22093.497348\n",
      "30  2022-07-26  20783.387306  21661.450773  21661.450773  20888.391299\n"
     ]
    }
   ],
   "source": [
    "#data for ploting daily candle stick plot, daily min, and max as max \n",
    "candlestick_data = data.groupby(data.date, as_index=False).agg({\"Price\": ['min', 'max', 'first', 'last']})\n",
    "print(candlestick_data)"
   ]
  },
  {
   "cell_type": "code",
   "execution_count": 20,
   "metadata": {},
   "outputs": [
    {
     "data": {
      "application/vnd.plotly.v1+json": {
       "config": {
        "plotlyServerURL": "https://plot.ly"
       },
       "data": [
        {
         "close": [
          21389.480570807817,
          20831.20613286452,
          20398.530481386562,
          20323.32348553218,
          18891.797838893755,
          19432.5476006028,
          19378.141016164303,
          19305.319017338865,
          19942.643586891456,
          20360.731340849467,
          20347.961860498646,
          21650.057280687386,
          21777.87384201648,
          21729.069959078217,
          21078.461007485323,
          20328.664022834084,
          19469.02153566098,
          19871.55142565721,
          20487.414521882423,
          20952.99637132786,
          21232.890055531167,
          21004.01890464112,
          21702.15743148427,
          23654.858145187776,
          23615.00126368033,
          23216.702129125562,
          22750.711397194504,
          22292.19568398394,
          22789.404089591724,
          22093.497347624514,
          20888.391299152823
         ],
         "high": [
          21397.26571368566,
          21475.850906626994,
          21108.771855309027,
          20374.983538760513,
          20223.261439603742,
          20429.178978753695,
          19378.141016164303,
          19482.648523109194,
          19948.82595273913,
          20493.56267855715,
          20439.18359558386,
          21790.773518813978,
          22109.67363877527,
          21851.62314659787,
          21634.778795664493,
          20872.10676824837,
          20062.918477275754,
          19912.101239181808,
          20697.65730744682,
          21135.784032550167,
          21399.149590512203,
          21509.626028828054,
          22343.508744451945,
          23654.858145187776,
          24160.26051317441,
          23364.053665093972,
          23665.847268253943,
          22913.847008028315,
          22818.98164988223,
          22860.15456315955,
          21661.450772543412
         ],
         "low": [
          21236.76975398373,
          20741.872123533976,
          20275.064146099572,
          19958.85785017017,
          18817.428797534387,
          18927.65732364085,
          19109.36728283634,
          19015.70479020643,
          19106.023615759324,
          19420.07949592582,
          19885.77210297521,
          20347.039132249396,
          21293.230606876863,
          21511.65655197816,
          20828.123959221815,
          20328.664022834084,
          19432.2077295873,
          19113.688678973267,
          19748.348514149035,
          20435.357940523878,
          20522.749339726004,
          20935.72186429424,
          20802.939872166535,
          21766.862634047677,
          22993.315869564274,
          22524.740213750025,
          22648.696277101935,
          22067.867506426574,
          22338.57869408516,
          21803.164657544028,
          20783.38730581848
         ],
         "open": [
          21397.26571368566,
          21123.118199643006,
          20831.69436576235,
          20328.49713277272,
          20223.261439603742,
          18927.65732364085,
          19371.18451666663,
          19345.062017306635,
          19299.174565970407,
          20106.97660284019,
          20375.983039475163,
          20517.772667383317,
          21607.390054173018,
          21766.456666588747,
          21634.778795664493,
          20872.10676824837,
          20062.918477275754,
          19415.440968819457,
          19844.246944933417,
          20499.224346934323,
          20889.314292097766,
          21227.184606050185,
          20995.891184502085,
          21784.494532678902,
          23461.9839189125,
          23364.053665093972,
          23016.031815463397,
          22737.283714374513,
          22511.78784600054,
          22860.15456315955,
          21661.450772543412
         ],
         "type": "candlestick",
         "x": [
          "2022-06-26",
          "2022-06-27",
          "2022-06-28",
          "2022-06-29",
          "2022-06-30",
          "2022-07-01",
          "2022-07-02",
          "2022-07-03",
          "2022-07-04",
          "2022-07-05",
          "2022-07-06",
          "2022-07-07",
          "2022-07-08",
          "2022-07-09",
          "2022-07-10",
          "2022-07-11",
          "2022-07-12",
          "2022-07-13",
          "2022-07-14",
          "2022-07-15",
          "2022-07-16",
          "2022-07-17",
          "2022-07-18",
          "2022-07-19",
          "2022-07-20",
          "2022-07-21",
          "2022-07-22",
          "2022-07-23",
          "2022-07-24",
          "2022-07-25",
          "2022-07-26"
         ]
        }
       ],
       "layout": {
        "template": {
         "data": {
          "bar": [
           {
            "error_x": {
             "color": "#2a3f5f"
            },
            "error_y": {
             "color": "#2a3f5f"
            },
            "marker": {
             "line": {
              "color": "#E5ECF6",
              "width": 0.5
             },
             "pattern": {
              "fillmode": "overlay",
              "size": 10,
              "solidity": 0.2
             }
            },
            "type": "bar"
           }
          ],
          "barpolar": [
           {
            "marker": {
             "line": {
              "color": "#E5ECF6",
              "width": 0.5
             },
             "pattern": {
              "fillmode": "overlay",
              "size": 10,
              "solidity": 0.2
             }
            },
            "type": "barpolar"
           }
          ],
          "carpet": [
           {
            "aaxis": {
             "endlinecolor": "#2a3f5f",
             "gridcolor": "white",
             "linecolor": "white",
             "minorgridcolor": "white",
             "startlinecolor": "#2a3f5f"
            },
            "baxis": {
             "endlinecolor": "#2a3f5f",
             "gridcolor": "white",
             "linecolor": "white",
             "minorgridcolor": "white",
             "startlinecolor": "#2a3f5f"
            },
            "type": "carpet"
           }
          ],
          "choropleth": [
           {
            "colorbar": {
             "outlinewidth": 0,
             "ticks": ""
            },
            "type": "choropleth"
           }
          ],
          "contour": [
           {
            "colorbar": {
             "outlinewidth": 0,
             "ticks": ""
            },
            "colorscale": [
             [
              0,
              "#0d0887"
             ],
             [
              0.1111111111111111,
              "#46039f"
             ],
             [
              0.2222222222222222,
              "#7201a8"
             ],
             [
              0.3333333333333333,
              "#9c179e"
             ],
             [
              0.4444444444444444,
              "#bd3786"
             ],
             [
              0.5555555555555556,
              "#d8576b"
             ],
             [
              0.6666666666666666,
              "#ed7953"
             ],
             [
              0.7777777777777778,
              "#fb9f3a"
             ],
             [
              0.8888888888888888,
              "#fdca26"
             ],
             [
              1,
              "#f0f921"
             ]
            ],
            "type": "contour"
           }
          ],
          "contourcarpet": [
           {
            "colorbar": {
             "outlinewidth": 0,
             "ticks": ""
            },
            "type": "contourcarpet"
           }
          ],
          "heatmap": [
           {
            "colorbar": {
             "outlinewidth": 0,
             "ticks": ""
            },
            "colorscale": [
             [
              0,
              "#0d0887"
             ],
             [
              0.1111111111111111,
              "#46039f"
             ],
             [
              0.2222222222222222,
              "#7201a8"
             ],
             [
              0.3333333333333333,
              "#9c179e"
             ],
             [
              0.4444444444444444,
              "#bd3786"
             ],
             [
              0.5555555555555556,
              "#d8576b"
             ],
             [
              0.6666666666666666,
              "#ed7953"
             ],
             [
              0.7777777777777778,
              "#fb9f3a"
             ],
             [
              0.8888888888888888,
              "#fdca26"
             ],
             [
              1,
              "#f0f921"
             ]
            ],
            "type": "heatmap"
           }
          ],
          "heatmapgl": [
           {
            "colorbar": {
             "outlinewidth": 0,
             "ticks": ""
            },
            "colorscale": [
             [
              0,
              "#0d0887"
             ],
             [
              0.1111111111111111,
              "#46039f"
             ],
             [
              0.2222222222222222,
              "#7201a8"
             ],
             [
              0.3333333333333333,
              "#9c179e"
             ],
             [
              0.4444444444444444,
              "#bd3786"
             ],
             [
              0.5555555555555556,
              "#d8576b"
             ],
             [
              0.6666666666666666,
              "#ed7953"
             ],
             [
              0.7777777777777778,
              "#fb9f3a"
             ],
             [
              0.8888888888888888,
              "#fdca26"
             ],
             [
              1,
              "#f0f921"
             ]
            ],
            "type": "heatmapgl"
           }
          ],
          "histogram": [
           {
            "marker": {
             "pattern": {
              "fillmode": "overlay",
              "size": 10,
              "solidity": 0.2
             }
            },
            "type": "histogram"
           }
          ],
          "histogram2d": [
           {
            "colorbar": {
             "outlinewidth": 0,
             "ticks": ""
            },
            "colorscale": [
             [
              0,
              "#0d0887"
             ],
             [
              0.1111111111111111,
              "#46039f"
             ],
             [
              0.2222222222222222,
              "#7201a8"
             ],
             [
              0.3333333333333333,
              "#9c179e"
             ],
             [
              0.4444444444444444,
              "#bd3786"
             ],
             [
              0.5555555555555556,
              "#d8576b"
             ],
             [
              0.6666666666666666,
              "#ed7953"
             ],
             [
              0.7777777777777778,
              "#fb9f3a"
             ],
             [
              0.8888888888888888,
              "#fdca26"
             ],
             [
              1,
              "#f0f921"
             ]
            ],
            "type": "histogram2d"
           }
          ],
          "histogram2dcontour": [
           {
            "colorbar": {
             "outlinewidth": 0,
             "ticks": ""
            },
            "colorscale": [
             [
              0,
              "#0d0887"
             ],
             [
              0.1111111111111111,
              "#46039f"
             ],
             [
              0.2222222222222222,
              "#7201a8"
             ],
             [
              0.3333333333333333,
              "#9c179e"
             ],
             [
              0.4444444444444444,
              "#bd3786"
             ],
             [
              0.5555555555555556,
              "#d8576b"
             ],
             [
              0.6666666666666666,
              "#ed7953"
             ],
             [
              0.7777777777777778,
              "#fb9f3a"
             ],
             [
              0.8888888888888888,
              "#fdca26"
             ],
             [
              1,
              "#f0f921"
             ]
            ],
            "type": "histogram2dcontour"
           }
          ],
          "mesh3d": [
           {
            "colorbar": {
             "outlinewidth": 0,
             "ticks": ""
            },
            "type": "mesh3d"
           }
          ],
          "parcoords": [
           {
            "line": {
             "colorbar": {
              "outlinewidth": 0,
              "ticks": ""
             }
            },
            "type": "parcoords"
           }
          ],
          "pie": [
           {
            "automargin": true,
            "type": "pie"
           }
          ],
          "scatter": [
           {
            "fillpattern": {
             "fillmode": "overlay",
             "size": 10,
             "solidity": 0.2
            },
            "type": "scatter"
           }
          ],
          "scatter3d": [
           {
            "line": {
             "colorbar": {
              "outlinewidth": 0,
              "ticks": ""
             }
            },
            "marker": {
             "colorbar": {
              "outlinewidth": 0,
              "ticks": ""
             }
            },
            "type": "scatter3d"
           }
          ],
          "scattercarpet": [
           {
            "marker": {
             "colorbar": {
              "outlinewidth": 0,
              "ticks": ""
             }
            },
            "type": "scattercarpet"
           }
          ],
          "scattergeo": [
           {
            "marker": {
             "colorbar": {
              "outlinewidth": 0,
              "ticks": ""
             }
            },
            "type": "scattergeo"
           }
          ],
          "scattergl": [
           {
            "marker": {
             "colorbar": {
              "outlinewidth": 0,
              "ticks": ""
             }
            },
            "type": "scattergl"
           }
          ],
          "scattermapbox": [
           {
            "marker": {
             "colorbar": {
              "outlinewidth": 0,
              "ticks": ""
             }
            },
            "type": "scattermapbox"
           }
          ],
          "scatterpolar": [
           {
            "marker": {
             "colorbar": {
              "outlinewidth": 0,
              "ticks": ""
             }
            },
            "type": "scatterpolar"
           }
          ],
          "scatterpolargl": [
           {
            "marker": {
             "colorbar": {
              "outlinewidth": 0,
              "ticks": ""
             }
            },
            "type": "scatterpolargl"
           }
          ],
          "scatterternary": [
           {
            "marker": {
             "colorbar": {
              "outlinewidth": 0,
              "ticks": ""
             }
            },
            "type": "scatterternary"
           }
          ],
          "surface": [
           {
            "colorbar": {
             "outlinewidth": 0,
             "ticks": ""
            },
            "colorscale": [
             [
              0,
              "#0d0887"
             ],
             [
              0.1111111111111111,
              "#46039f"
             ],
             [
              0.2222222222222222,
              "#7201a8"
             ],
             [
              0.3333333333333333,
              "#9c179e"
             ],
             [
              0.4444444444444444,
              "#bd3786"
             ],
             [
              0.5555555555555556,
              "#d8576b"
             ],
             [
              0.6666666666666666,
              "#ed7953"
             ],
             [
              0.7777777777777778,
              "#fb9f3a"
             ],
             [
              0.8888888888888888,
              "#fdca26"
             ],
             [
              1,
              "#f0f921"
             ]
            ],
            "type": "surface"
           }
          ],
          "table": [
           {
            "cells": {
             "fill": {
              "color": "#EBF0F8"
             },
             "line": {
              "color": "white"
             }
            },
            "header": {
             "fill": {
              "color": "#C8D4E3"
             },
             "line": {
              "color": "white"
             }
            },
            "type": "table"
           }
          ]
         },
         "layout": {
          "annotationdefaults": {
           "arrowcolor": "#2a3f5f",
           "arrowhead": 0,
           "arrowwidth": 1
          },
          "autotypenumbers": "strict",
          "coloraxis": {
           "colorbar": {
            "outlinewidth": 0,
            "ticks": ""
           }
          },
          "colorscale": {
           "diverging": [
            [
             0,
             "#8e0152"
            ],
            [
             0.1,
             "#c51b7d"
            ],
            [
             0.2,
             "#de77ae"
            ],
            [
             0.3,
             "#f1b6da"
            ],
            [
             0.4,
             "#fde0ef"
            ],
            [
             0.5,
             "#f7f7f7"
            ],
            [
             0.6,
             "#e6f5d0"
            ],
            [
             0.7,
             "#b8e186"
            ],
            [
             0.8,
             "#7fbc41"
            ],
            [
             0.9,
             "#4d9221"
            ],
            [
             1,
             "#276419"
            ]
           ],
           "sequential": [
            [
             0,
             "#0d0887"
            ],
            [
             0.1111111111111111,
             "#46039f"
            ],
            [
             0.2222222222222222,
             "#7201a8"
            ],
            [
             0.3333333333333333,
             "#9c179e"
            ],
            [
             0.4444444444444444,
             "#bd3786"
            ],
            [
             0.5555555555555556,
             "#d8576b"
            ],
            [
             0.6666666666666666,
             "#ed7953"
            ],
            [
             0.7777777777777778,
             "#fb9f3a"
            ],
            [
             0.8888888888888888,
             "#fdca26"
            ],
            [
             1,
             "#f0f921"
            ]
           ],
           "sequentialminus": [
            [
             0,
             "#0d0887"
            ],
            [
             0.1111111111111111,
             "#46039f"
            ],
            [
             0.2222222222222222,
             "#7201a8"
            ],
            [
             0.3333333333333333,
             "#9c179e"
            ],
            [
             0.4444444444444444,
             "#bd3786"
            ],
            [
             0.5555555555555556,
             "#d8576b"
            ],
            [
             0.6666666666666666,
             "#ed7953"
            ],
            [
             0.7777777777777778,
             "#fb9f3a"
            ],
            [
             0.8888888888888888,
             "#fdca26"
            ],
            [
             1,
             "#f0f921"
            ]
           ]
          },
          "colorway": [
           "#636efa",
           "#EF553B",
           "#00cc96",
           "#ab63fa",
           "#FFA15A",
           "#19d3f3",
           "#FF6692",
           "#B6E880",
           "#FF97FF",
           "#FECB52"
          ],
          "font": {
           "color": "#2a3f5f"
          },
          "geo": {
           "bgcolor": "white",
           "lakecolor": "white",
           "landcolor": "#E5ECF6",
           "showlakes": true,
           "showland": true,
           "subunitcolor": "white"
          },
          "hoverlabel": {
           "align": "left"
          },
          "hovermode": "closest",
          "mapbox": {
           "style": "light"
          },
          "paper_bgcolor": "white",
          "plot_bgcolor": "#E5ECF6",
          "polar": {
           "angularaxis": {
            "gridcolor": "white",
            "linecolor": "white",
            "ticks": ""
           },
           "bgcolor": "#E5ECF6",
           "radialaxis": {
            "gridcolor": "white",
            "linecolor": "white",
            "ticks": ""
           }
          },
          "scene": {
           "xaxis": {
            "backgroundcolor": "#E5ECF6",
            "gridcolor": "white",
            "gridwidth": 2,
            "linecolor": "white",
            "showbackground": true,
            "ticks": "",
            "zerolinecolor": "white"
           },
           "yaxis": {
            "backgroundcolor": "#E5ECF6",
            "gridcolor": "white",
            "gridwidth": 2,
            "linecolor": "white",
            "showbackground": true,
            "ticks": "",
            "zerolinecolor": "white"
           },
           "zaxis": {
            "backgroundcolor": "#E5ECF6",
            "gridcolor": "white",
            "gridwidth": 2,
            "linecolor": "white",
            "showbackground": true,
            "ticks": "",
            "zerolinecolor": "white"
           }
          },
          "shapedefaults": {
           "line": {
            "color": "#2a3f5f"
           }
          },
          "ternary": {
           "aaxis": {
            "gridcolor": "white",
            "linecolor": "white",
            "ticks": ""
           },
           "baxis": {
            "gridcolor": "white",
            "linecolor": "white",
            "ticks": ""
           },
           "bgcolor": "#E5ECF6",
           "caxis": {
            "gridcolor": "white",
            "linecolor": "white",
            "ticks": ""
           }
          },
          "title": {
           "x": 0.05
          },
          "xaxis": {
           "automargin": true,
           "gridcolor": "white",
           "linecolor": "white",
           "ticks": "",
           "title": {
            "standoff": 15
           },
           "zerolinecolor": "white",
           "zerolinewidth": 2
          },
          "yaxis": {
           "automargin": true,
           "gridcolor": "white",
           "linecolor": "white",
           "ticks": "",
           "title": {
            "standoff": 15
           },
           "zerolinecolor": "white",
           "zerolinewidth": 2
          }
         }
        },
        "xaxis": {
         "rangeslider": {
          "visible": true
         }
        }
       }
      }
     },
     "metadata": {},
     "output_type": "display_data"
    }
   ],
   "source": [
    "fig = go.Figure(data=[go.Candlestick(x=candlestick_data['date'],\n",
    "                open=candlestick_data['Price']['first'], \n",
    "                high=candlestick_data['Price']['max'],\n",
    "                low=candlestick_data['Price']['min'], \n",
    "                close=candlestick_data['Price']['last'])\n",
    "                ])\n",
    "\n",
    "fig.update_layout(xaxis_rangeslider_visible=True)\n",
    "\n",
    "fig.show()"
   ]
  }
 ],
 "metadata": {
  "kernelspec": {
   "display_name": "Python 3.10.3 64-bit",
   "language": "python",
   "name": "python3"
  },
  "language_info": {
   "codemirror_mode": {
    "name": "ipython",
    "version": 3
   },
   "file_extension": ".py",
   "mimetype": "text/x-python",
   "name": "python",
   "nbconvert_exporter": "python",
   "pygments_lexer": "ipython3",
   "version": "3.10.3"
  },
  "orig_nbformat": 4,
  "vscode": {
   "interpreter": {
    "hash": "aee8b7b246df8f9039afb4144a1f6fd8d2ca17a180786b69acc140d282b71a49"
   }
  }
 },
 "nbformat": 4,
 "nbformat_minor": 2
}
